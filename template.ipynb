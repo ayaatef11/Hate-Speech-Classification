{
 "cells": [
  {
   "cell_type": "code",
   "execution_count": 1,
   "metadata": {},
   "outputs": [],
   "source": [
    "import os\n",
    "from pathlib import Path\n",
    "import logging\n",
    "\n",
    "\n",
    "logging.basicConfig(level=logging.INFO,format='[%(asctime)s]:%(message)s:')"
   ]
  },
  {
   "cell_type": "code",
   "execution_count": 2,
   "metadata": {},
   "outputs": [],
   "source": [
    "project_name='hate'"
   ]
  },
  {
   "cell_type": "code",
   "execution_count": 4,
   "metadata": {},
   "outputs": [
    {
     "name": "stderr",
     "output_type": "stream",
     "text": [
      "[2025-02-28 16:15:27,533]:Creating directory: hate\\components for the file: __init__.py:\n",
      "[2025-02-28 16:15:27,534]:creating empty file: hate\\components\\__init__.py:\n",
      "[2025-02-28 16:15:27,536]:Creating directory: hate\\components for the file: data_ingestion.py:\n",
      "[2025-02-28 16:15:27,537]:creating empty file: hate\\components\\data_ingestion.py:\n",
      "[2025-02-28 16:15:27,539]:Creating directory: hate\\components for the file: data_transformation.py:\n",
      "[2025-02-28 16:15:27,541]:creating empty file: hate\\components\\data_transformation.py:\n",
      "[2025-02-28 16:15:27,542]:Creating directory: hate\\components for the file: model_trainer.py:\n",
      "[2025-02-28 16:15:27,543]:creating empty file: hate\\components\\model_trainer.py:\n",
      "[2025-02-28 16:15:27,545]:Creating directory: hate\\components for the file: __init__.py:\n",
      "[2025-02-28 16:15:27,546]:creating empty file: hate\\components\\__init__.py:\n",
      "[2025-02-28 16:15:27,547]:Creating directory: hate\\components for the file: model_pusher.py:\n",
      "[2025-02-28 16:15:27,549]:creating empty file: hate\\components\\model_pusher.py:\n",
      "[2025-02-28 16:15:27,550]:Creating directory: hate\\configuration for the file: gcloud_syncer.py:\n",
      "[2025-02-28 16:15:27,552]:creating empty file: hate\\configuration\\gcloud_syncer.py:\n",
      "[2025-02-28 16:15:27,554]:Creating directory: hate\\configuration for the file: __init__.py:\n",
      "[2025-02-28 16:15:27,555]:creating empty file: hate\\configuration\\__init__.py:\n",
      "[2025-02-28 16:15:27,557]:Creating directory: hate\\constants for the file: __init__.py:\n",
      "[2025-02-28 16:15:27,558]:creating empty file: hate\\constants\\__init__.py:\n",
      "[2025-02-28 16:15:27,561]:Creating directory: hate\\entity for the file: __init__.py:\n",
      "[2025-02-28 16:15:27,563]:creating empty file: hate\\entity\\__init__.py:\n",
      "[2025-02-28 16:15:27,566]:Creating directory: hate\\entity for the file: config_entity.py:\n",
      "[2025-02-28 16:15:27,567]:creating empty file: hate\\entity\\config_entity.py:\n",
      "[2025-02-28 16:15:27,568]:Creating directory: hate\\entity for the file: artifact_entity.py:\n",
      "[2025-02-28 16:15:27,571]:creating empty file: hate\\entity\\artifact_entity.py:\n",
      "[2025-02-28 16:15:27,572]:Creating directory: hate\\exception for the file: __init__.py:\n",
      "[2025-02-28 16:15:27,574]:creating empty file: hate\\exception\\__init__.py:\n",
      "[2025-02-28 16:15:27,577]:Creating directory: hate\\logger for the file: __init__.py:\n",
      "[2025-02-28 16:15:27,579]:creating empty file: hate\\logger\\__init__.py:\n",
      "[2025-02-28 16:15:27,581]:Creating directory: hate\\pipeline for the file: __init__.py:\n",
      "[2025-02-28 16:15:27,582]:creating empty file: hate\\pipeline\\__init__.py:\n",
      "[2025-02-28 16:15:27,584]:Creating directory: hate\\pipeline for the file: train_pipeline.py:\n",
      "[2025-02-28 16:15:27,586]:creating empty file: hate\\pipeline\\train_pipeline.py:\n",
      "[2025-02-28 16:15:27,588]:Creating directory: hate\\pipeline for the file: prediction_pipeline.py:\n",
      "[2025-02-28 16:15:27,589]:creating empty file: hate\\pipeline\\prediction_pipeline.py:\n",
      "[2025-02-28 16:15:27,590]:Creating directory: hate\\ml for the file: __init__.py:\n",
      "[2025-02-28 16:15:27,592]:creating empty file: hate\\ml\\__init__.py:\n",
      "[2025-02-28 16:15:27,593]:Creating directory: hate\\ml for the file: model.py:\n",
      "[2025-02-28 16:15:27,666]:creating empty file: hate\\ml\\model.py:\n"
     ]
    }
   ],
   "source": [
    "list_of_files = [\n",
    "    f\"{project_name}/components/__init__.py\",\n",
    "    f\"{project_name}/components/data_ingestion.py\",\n",
    "    f\"{project_name}/components/data_transformation.py\",\n",
    "    f\"{project_name}/components/model_trainer.py\",\n",
    "    f\"{project_name}/components/__init__.py\",\n",
    "    f\"{project_name}/components/model_pusher.py\",\n",
    "    f\"{project_name}/configuration/gcloud_syncer.py\",\n",
    "    f\"{project_name}/configuration/__init__.py\",\n",
    "    f\"{project_name}/constants/__init__.py\",\n",
    "    f\"{project_name}/entity/__init__.py\",\n",
    "    f\"{project_name}/entity/config_entity.py\",\n",
    "    f\"{project_name}/entity/artifact_entity.py\",\n",
    "    f\"{project_name}/exception/__init__.py\",\n",
    "    f\"{project_name}/logger/__init__.py\",\n",
    "    f\"{project_name}/pipeline/__init__.py\",\n",
    "    f\"{project_name}/pipeline/train_pipeline.py\",\n",
    "    f\"{project_name}/pipeline/prediction_pipeline.py\",\n",
    "    f\"{project_name}/ml/__init__.py\",\n",
    "    f\"{project_name}/ml/model.py\",\n",
    "    \"app.py\",\n",
    "    \"demo.py\",\n",
    "    \"requirements.txt\",\n",
    "    \"Dockerfile\",\n",
    "    \"setup.py\",\n",
    "    \".dockerignore\"\n",
    "]\n",
    "\n",
    "\n",
    "for filepath in list_of_files:\n",
    "    filepath = Path(filepath)\n",
    "    filedir,filename=os.path.split(filepath)\n",
    "\n",
    "    if filedir !=\"\":\n",
    "        os.makedirs(filedir,exist_ok=True)\n",
    "        logging.info(f\"Creating directory: {filedir} for the file: {filename}\")\n",
    "\n",
    "        if (not os.path.exists(filepath)) or (os .path.getsize(filepath)==0):\n",
    "            with open(filepath,\"w\")as f:\n",
    "                pass\n",
    "                logging.info(f\"creating empty file: {filepath}\")\n",
    "        else:\n",
    "          logging.info(f\"{filename} is already exists\")"
   ]
  },
  {
   "cell_type": "markdown",
   "metadata": {},
   "source": []
  }
 ],
 "metadata": {
  "kernelspec": {
   "display_name": "base",
   "language": "python",
   "name": "python3"
  },
  "language_info": {
   "codemirror_mode": {
    "name": "ipython",
    "version": 3
   },
   "file_extension": ".py",
   "mimetype": "text/x-python",
   "name": "python",
   "nbconvert_exporter": "python",
   "pygments_lexer": "ipython3",
   "version": "3.9.18"
  }
 },
 "nbformat": 4,
 "nbformat_minor": 2
}
